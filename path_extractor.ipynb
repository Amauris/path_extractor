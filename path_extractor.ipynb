{
 "cells": [
  {
   "cell_type": "code",
   "execution_count": 1,
   "metadata": {},
   "outputs": [],
   "source": [
    "import matplotlib.pyplot as plt\n",
    "import numpy as np\n",
    "import copy\n",
    "from skimage.util import img_as_ubyte\n",
    "from skimage.morphology import skeletonize\n",
    "from skimage.util import invert\n",
    "from skimage.segmentation import flood_fill"
   ]
  },
  {
   "cell_type": "code",
   "execution_count": 2,
   "metadata": {},
   "outputs": [],
   "source": [
    "# Source https://github.com/jmlipman/LAID/blob/master/IP/Otsu/otsu.py\n",
    "def otso_threshold(img):\n",
    "    [hist, _] = np.histogram(img, bins=256, range=(0, 255))\n",
    "    # Normalization so we have probabilities-like values (sum=1)\n",
    "    hist = 1.0*hist/np.sum(hist)\n",
    "\n",
    "    val_max = -999\n",
    "    thr = -1\n",
    "    for t in range(1,255):\n",
    "        # Non-efficient implementation\n",
    "        q1 = np.sum(hist[:t])\n",
    "        q2 = np.sum(hist[t:])\n",
    "        m1 = np.sum(np.array([i for i in range(t)])*hist[:t])/q1\n",
    "        m2 = np.sum(np.array([i for i in range(t,256)])*hist[t:])/q2\n",
    "        val = q1*(1-q1)*np.power(m1-m2,2)\n",
    "        if val_max < val:\n",
    "            val_max = val\n",
    "            thr = t\n",
    "    return thr\n",
    "\n",
    "def binarize_img(img):\n",
    "    copy_img = copy.deepcopy(img)\n",
    "    tresh = otso_threshold(copy_img)\n",
    "\n",
    "    for i in range(len(copy_img)):\n",
    "        for j in range(len(copy_img[i])):\n",
    "            if copy_img[i][j] >= tresh:\n",
    "                copy_img[i][j] = 1\n",
    "            else: \n",
    "                copy_img[i][j] = 0\n",
    "    return copy_img\n",
    "\n",
    "def convert_to_gray(img):\n",
    "    r_img, g_img, b_img = copy.deepcopy(img), copy.deepcopy(img), copy.deepcopy(img)\n",
    "    r_img = img[:, :, 0]\n",
    "    g_img = img[:, :, 1]\n",
    "    b_img = img[:, :, 2]\n",
    "    intensity_img = 0.299*r_img + 0.587*g_img + 0.114*b_img\n",
    "    \n",
    "    return intensity_img\n",
    "\n",
    "def get_binary_img(img_path):\n",
    "    img = plt.imread(img_path)\n",
    "    img = img_as_ubyte(img)\n",
    "    gray_img = convert_to_gray(img)\n",
    "    binary_img = binarize_img(gray_img)\n",
    "    return binary_img\n",
    "\n",
    "def skeletonize_img_path(img_path):\n",
    "    binary_img = get_binary_img(img_path)\n",
    "    skeleton = skeletonize(binary_img)\n",
    "    invert_skeleton = invert(skeleton)\n",
    "    \n",
    "    return invert_skeleton\n",
    "\n",
    "def skeletonize_img_array(img):\n",
    "    skeleton = skeletonize(img)\n",
    "    invert_skeleton = invert(skeleton)\n",
    "    \n",
    "    return invert_skeleton"
   ]
  },
  {
   "cell_type": "code",
   "execution_count": 4,
   "metadata": {},
   "outputs": [
    {
     "data": {
      "image/png": "[encoded data removed]",
      "text/plain": [
       "<Figure size 432x288 with 1 Axes>"
      ]
     },
     "metadata": {
      "needs_background": "light"
     },
     "output_type": "display_data"
    }
   ],
   "source": [
    "img = get_binary_img(\"floorplans/research_paper_sample_binarization.png\")\n",
    "\n",
    "plt.imshow(img, cmap='gray')\n",
    "plt.show()"
   ]
  },
  {
   "cell_type": "code",
   "execution_count": null,
   "metadata": {},
   "outputs": [],
   "source": []
  }
 ],
 "metadata": {
  "kernelspec": {
   "display_name": "Python 3",
   "language": "python",
   "name": "python3"
  },
  "language_info": {
   "codemirror_mode": {
    "name": "ipython",
    "version": 3
   },
   "file_extension": ".py",
   "mimetype": "text/x-python",
   "name": "python",
   "nbconvert_exporter": "python",
   "pygments_lexer": "ipython3",
   "version": "3.8.3"
  }
 },
 "nbformat": 4,
 "nbformat_minor": 4
}
